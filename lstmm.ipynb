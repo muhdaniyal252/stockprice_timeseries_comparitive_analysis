{
 "cells": [
  {
   "cell_type": "code",
   "execution_count": 1,
   "metadata": {},
   "outputs": [],
   "source": [
    "import math\n",
    "import numpy as np\n",
    "import matplotlib.pyplot as plt\n",
    "import pandas as pd"
   ]
  },
  {
   "cell_type": "code",
   "execution_count": 3,
   "metadata": {},
   "outputs": [],
   "source": [
    "code = 'KEL'\n",
    "filename = lambda x: f'stockdata/{x}.csv'\n",
    "read = filename(code)\n",
    "\n",
    "df = pd.read_csv(read,delimiter='\\t',header=None)\n",
    "df.columns = ['Time','Open','High','Low','Close','Volume']\n",
    "df['Time'] = pd.to_datetime(df['Time'],infer_datetime_format=True)\n",
    "df.set_index('Time',inplace=True)"
   ]
  },
  {
   "cell_type": "code",
   "execution_count": 4,
   "metadata": {},
   "outputs": [
    {
     "data": {
      "text/plain": [
       "(731, 5)"
      ]
     },
     "execution_count": 4,
     "metadata": {},
     "output_type": "execute_result"
    }
   ],
   "source": [
    "df.shape"
   ]
  }
 ],
 "metadata": {
  "kernelspec": {
   "display_name": "timeseries",
   "language": "python",
   "name": "python3"
  },
  "language_info": {
   "codemirror_mode": {
    "name": "ipython",
    "version": 3
   },
   "file_extension": ".py",
   "mimetype": "text/x-python",
   "name": "python",
   "nbconvert_exporter": "python",
   "pygments_lexer": "ipython3",
   "version": "3.10.6"
  },
  "orig_nbformat": 4,
  "vscode": {
   "interpreter": {
    "hash": "05b56e8f020b7bbeddd5c396b3bcd94218004e5b608246a8a821dde0108200cc"
   }
  }
 },
 "nbformat": 4,
 "nbformat_minor": 2
}
